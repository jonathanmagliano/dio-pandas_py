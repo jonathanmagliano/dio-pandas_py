{
 "cells": [
  {
   "cell_type": "code",
   "execution_count": null,
   "source": [
    "# Importando a biblioteca\r\n",
    "import pandas as pd"
   ],
   "outputs": [],
   "metadata": {}
  },
  {
   "cell_type": "code",
   "execution_count": null,
   "source": [
    "# Leitura dos arquivos\r\n",
    "df1 = pd.read_excel(\"Rio_de_janeiro.xlsx\")\r\n",
    "df2 = pd.read_excel(\"Sao_paulo.xlsx\")\r\n",
    "df3 = pd.read_excel(\"Recife.xlsx\")\r\n",
    "df4 = pd.read_excel(\"Minas_gerais.xlsx\")\r\n",
    "df5 = pd.read_excel(\"Santa_catarina.xlsx\")"
   ],
   "outputs": [],
   "metadata": {}
  },
  {
   "cell_type": "code",
   "execution_count": null,
   "source": [
    "# Juntando todos os arquivos\r\n",
    "df = pd.concat([df1, df2, df3, df4, df5])"
   ],
   "outputs": [],
   "metadata": {}
  },
  {
   "cell_type": "code",
   "execution_count": null,
   "source": [
    "# Retorno das primeiras linhas; 5\r\n",
    "df.head()"
   ],
   "outputs": [],
   "metadata": {}
  },
  {
   "cell_type": "code",
   "execution_count": null,
   "source": [
    "# Retorno das últimas linhas; 5\r\n",
    "df.tail()"
   ],
   "outputs": [],
   "metadata": {}
  },
  {
   "cell_type": "code",
   "execution_count": null,
   "source": [
    "# Amostra do conjunto de dados\r\n",
    "df.sample(5)"
   ],
   "outputs": [],
   "metadata": {}
  },
  {
   "cell_type": "code",
   "execution_count": null,
   "source": [
    "# Verificando o tipo de dado de cada coluna\r\n",
    "df.dtypes"
   ],
   "outputs": [],
   "metadata": {}
  },
  {
   "cell_type": "code",
   "execution_count": null,
   "source": [
    "# Alterando o tipo de dado da coluna lojaID\r\n",
    "df[\"LojaID\"] = df[\"LojaID\"].astype(\"object\")"
   ],
   "outputs": [],
   "metadata": {}
  },
  {
   "cell_type": "markdown",
   "source": [
    "Tratando valores faltantes"
   ],
   "metadata": {}
  },
  {
   "cell_type": "code",
   "execution_count": null,
   "source": [
    "# Consultando linhas com valores faltantes\r\n",
    "df.isnull().sum()"
   ],
   "outputs": [],
   "metadata": {}
  },
  {
   "cell_type": "code",
   "execution_count": null,
   "source": [
    "# Substituindo os valores nulos pela média\r\n",
    "df[\"Vendas\"].fillna(df[\"Vendas\"].mean(), inplace=True)"
   ],
   "outputs": [],
   "metadata": {}
  },
  {
   "cell_type": "code",
   "execution_count": null,
   "source": [
    "# Retorno da Média\r\n",
    "df[\"Vendas\"].mean()"
   ],
   "outputs": [],
   "metadata": {}
  },
  {
   "cell_type": "code",
   "execution_count": null,
   "source": [
    "# Substituindo os valores nulos por zero\r\n",
    "df[\"Vendas\"].fillna(0, inplace=True)"
   ],
   "outputs": [],
   "metadata": {}
  },
  {
   "cell_type": "code",
   "execution_count": null,
   "source": [
    "# Apagando as linhas com valores nulos\r\n",
    "df.dropna(inplace=True)"
   ],
   "outputs": [],
   "metadata": {}
  },
  {
   "cell_type": "code",
   "execution_count": null,
   "source": [
    "# Apagando as linhas com valores nulos com base apenas em 1 coluna\r\n",
    "df.dropna(subset=[\"Vendas\"], inplace=True)"
   ],
   "outputs": [],
   "metadata": {}
  },
  {
   "cell_type": "code",
   "execution_count": null,
   "source": [
    "# Removendo linhas que estejam com valores faltantes em todas as colunas\r\n",
    "df.dropna(how=\"all\", inplace=True)"
   ],
   "outputs": [],
   "metadata": {}
  },
  {
   "cell_type": "markdown",
   "source": [
    "Criando colunas novas"
   ],
   "metadata": {}
  },
  {
   "cell_type": "code",
   "execution_count": null,
   "source": [
    "# Criando a coluna de receita\r\n",
    "df[\"Receita\"] = df[\"Vendas\"].mul(df[\"Qtde\"])"
   ],
   "outputs": [],
   "metadata": {}
  },
  {
   "cell_type": "code",
   "execution_count": null,
   "source": [
    "df.head()"
   ],
   "outputs": [],
   "metadata": {}
  },
  {
   "cell_type": "code",
   "execution_count": null,
   "source": [
    "df[\"Receita/Vendas\"] = df[\"Receita\"] / df[\"Vendas\"]"
   ],
   "outputs": [],
   "metadata": {}
  },
  {
   "cell_type": "code",
   "execution_count": null,
   "source": [
    "# Retornando a maior receita\r\n",
    "df[\"Receita\"].max()"
   ],
   "outputs": [],
   "metadata": {}
  },
  {
   "cell_type": "code",
   "execution_count": null,
   "source": [
    "# Retornando a menor receita\r\n",
    "df[\"Receita\"].min()"
   ],
   "outputs": [],
   "metadata": {}
  },
  {
   "cell_type": "code",
   "execution_count": null,
   "source": [
    "# nlargest\r\n",
    "df.nlargest(3, \"Receita\")"
   ],
   "outputs": [],
   "metadata": {}
  },
  {
   "cell_type": "code",
   "execution_count": null,
   "source": [
    "# nsmallest\r\n",
    "df.nsmallest(3, \"Receita\")"
   ],
   "outputs": [],
   "metadata": {}
  },
  {
   "cell_type": "code",
   "execution_count": null,
   "source": [
    "# Agrupamento por cidade\r\n",
    "df.groupby(\"Cidade\")[\"Receita\"].sum()"
   ],
   "outputs": [],
   "metadata": {}
  },
  {
   "cell_type": "code",
   "execution_count": null,
   "source": [
    "# Ordenando o conjunto de dados\r\n",
    "df.sort_values(\"Receita\", ascending=False).head(10)"
   ],
   "outputs": [],
   "metadata": {}
  },
  {
   "cell_type": "code",
   "execution_count": null,
   "source": [],
   "outputs": [],
   "metadata": {}
  }
 ],
 "metadata": {
  "orig_nbformat": 4,
  "language_info": {
   "name": "python",
   "version": "3.9.7"
  },
  "kernelspec": {
   "name": "python3",
   "display_name": "Python 3.9.7 64-bit"
  },
  "interpreter": {
   "hash": "92237062529a7dfad5db2170781e2ae2a26d776f3e84984f0f74275a2cb5ec83"
  }
 },
 "nbformat": 4,
 "nbformat_minor": 2
}